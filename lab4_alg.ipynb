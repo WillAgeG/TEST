{
 "cells": [
  {
   "cell_type": "markdown",
   "metadata": {},
   "source": [
    "1) классифицирует компьютерную сеть. Программа запрашивает у пользователя число компьютеров в сети и в зависимости от введенного количества выводит класс сети (если число ЭВМ меньше 256\n",
    "– то это сеть класса C, от 256 до 65535 – сеть класса B, свыше 65535 – сеть класса A);\n",
    "\n",
    "2) запрашивает у пользователя номер одного из весенних месяцев, и выводит количество дней в\n",
    "этом месяце. Программа должна проверять, является ли введенный месяц весенним;\n",
    "\n",
    "3) выводит на экран приглашение: «Который час?», вводит с клавиатуры число X, имеющее смысл\n",
    "времени суток, и печатает слова «Доброе утро», «Добрый вечер», «Добрый день» в зависимости от введенного времени. Программа должна реагировать на ввод неправильного времени: меньше 0 или больше 24;\n",
    "\n",
    "4) запрашивает с клавиатуры у пользователя размер хищений (р.), определяет и выводит на экран\n",
    "масштаб в соответствии с принятой классификацией (например, если размер хищений меньше 100 р. –\n",
    "«мелкий», от 100 до 1000 – «крупный», свыше 1000 – «особо крупный»);\n",
    "\n",
    "5) выводит на экран приглашение: «Введите месяц», вводит с клавиатуры число X, имеющее смысл\n",
    "месяца, и печатает слова «Зима», «Весна», «Лето», «Осень» в зависимости от введенного месяца. Программа должна реагировать на ввод неправильного месяца: меньше 1 или больше 12;\n",
    "\n",
    "6) запрашивает у пользователя номер одного из летних месяцев, и выводит количество дней в этом\n",
    "месяце. Программа должна проверять, является ли введенный месяц летним;\n",
    "\n",
    "7) вводит с клавиатуры три числа и выводит на экран максимальное из них;\n",
    "\n",
    "8) выводит на экран приглашение: «Введите день недели», вводит с клавиатуры число X, имеющее\n",
    "смысл дня недели, и печатает слова «Рабочий день», «Короткий день», «Выходной» в зависимости от\n",
    "введенного дня. Программа должна реагировать на ввод неправильного дня недели: меньше 1 или\n",
    "больше 7;\n",
    "\n",
    "9) запрашивает у пользователя номер одного из осенних месяцев, и выводит количество дней в\n",
    "этом месяце. Программа должна проверять, является ли введенный месяц осенним;\n",
    "\n",
    "10) запрашивает с клавиатуры два целых числа, их сумму и произведение и выводит на экран сообщение о правильности сделанных пользователем вычислений;\n",
    "\n",
    "11) вводит с клавиатуры три числа и выводит на экран минимальное из них;\n",
    "\n",
    "12) запрашивает с клавиатуры два целых числа, их разность и частное (результат деления) и выводит на экран сообщение о правильности сделанных пользователем вычислений;\n",
    "\n",
    "13) запрашивает у пользователя номер одного из зимних месяцев, и выводит количество дней в этом\n",
    "месяце. Программа должна проверять, является ли введенный месяц зимним;\n",
    "\n",
    "14) вводит с клавиатуры число X. Если X меньше 10, то вычисляет и выводит на экран квадрат числа\n",
    "X, а если больше или равно, то вводит новое число Y, а затем вычисляет и выводит на экран значение\n",
    "суммы X и Y;\n",
    "\n",
    "15) запрашивает с клавиатуры три произвольных числа и выводит на экран сообщение о том, сколько из них отрицательных, положительных и нулевых. "
   ]
  },
  {
   "cell_type": "markdown",
   "metadata": {},
   "source": [
    "# Задание 1"
   ]
  },
  {
   "cell_type": "code",
   "execution_count": 7,
   "metadata": {},
   "outputs": [
    {
     "name": "stdout",
     "output_type": "stream",
     "text": [
      "233\n",
      "сеть класса C\n"
     ]
    }
   ],
   "source": [
    "evm = int(input())\n",
    "if evm < 256:\n",
    "    print(\"сеть класса C\")\n",
    "elif evm > 65535:\n",
    "    print(\"сеть класса A\")\n",
    "else:\n",
    "    print(\"сеть класса B\")"
   ]
  },
  {
   "cell_type": "markdown",
   "metadata": {},
   "source": [
    "# Задание 2 "
   ]
  },
  {
   "cell_type": "code",
   "execution_count": 2,
   "metadata": {},
   "outputs": [
    {
     "name": "stdout",
     "output_type": "stream",
     "text": [
      "2\n",
      "Месяц не весенний\n"
     ]
    }
   ],
   "source": [
    "to_month = int(input())\n",
    "if to_month == 3 or to_month == 4 or to_month == 5:\n",
    "    print(\"Месяц весенний\")\n",
    "    if to_month == 4:\n",
    "        print(\"30 дней в 4 месяце\")\n",
    "    else:\n",
    "        print(\"31 день\")\n",
    "else:\n",
    "    print(\"Месяц не весенний\")"
   ]
  },
  {
   "cell_type": "markdown",
   "metadata": {},
   "source": [
    "# Задание 3"
   ]
  },
  {
   "cell_type": "code",
   "execution_count": 14,
   "metadata": {},
   "outputs": [
    {
     "name": "stdout",
     "output_type": "stream",
     "text": [
      "Который час\n",
      "20\n",
      "Добрый вечер\n"
     ]
    }
   ],
   "source": [
    "print(\"Который час\")\n",
    "n = int(input())\n",
    "if n < 8 and n > 24:\n",
    "    print(\"ошибка\")\n",
    "else:\n",
    "    if n < 7:\n",
    "        print(\"Доброй ночи\")\n",
    "    elif n < 13:\n",
    "        print(\"Доброе утро\")\n",
    "    elif n < 19:\n",
    "        print(\"Добрый день\")\n",
    "    else:\n",
    "        print(\"Добрый вечер\")"
   ]
  },
  {
   "cell_type": "markdown",
   "metadata": {},
   "source": [
    "# Задание 4"
   ]
  },
  {
   "cell_type": "code",
   "execution_count": 6,
   "metadata": {},
   "outputs": [
    {
     "name": "stdout",
     "output_type": "stream",
     "text": [
      "1234\n",
      "Особо крупное хищение\n"
     ]
    }
   ],
   "source": [
    "n = int(input())\n",
    "if n < 100:\n",
    "    print(\"Мелкое хищение\")\n",
    "elif n < 1000:\n",
    "    print(\"Крупное хищение\")\n",
    "else:\n",
    "    print(\"Особо крупное хищение\")\n"
   ]
  },
  {
   "cell_type": "markdown",
   "metadata": {},
   "source": [
    "# Задание 5"
   ]
  },
  {
   "cell_type": "code",
   "execution_count": 10,
   "metadata": {},
   "outputs": [
    {
     "name": "stdout",
     "output_type": "stream",
     "text": [
      "123\n",
      "Ошибка\n"
     ]
    }
   ],
   "source": [
    "m = int(input())\n",
    "\n",
    "def zad5(n):\n",
    "    if n < 1 or n > 12:\n",
    "        return \"Ошибка\"\n",
    "    if n == 12 or n == 1 or n == 2:\n",
    "        return \"Зима\"\n",
    "    if n == 3 or n == 4 or n == 5:\n",
    "        return \"Весна\"\n",
    "    if n == 6 or n == 7 or n == 8:\n",
    "        return \"Лето\"\n",
    "    if n == 9 or n == 10 or n == 11:\n",
    "        return \"Весна\"\n",
    "    \n",
    "print(zad5(m))"
   ]
  },
  {
   "cell_type": "markdown",
   "metadata": {},
   "source": [
    "# Задание 6"
   ]
  },
  {
   "cell_type": "code",
   "execution_count": 14,
   "metadata": {},
   "outputs": [
    {
     "name": "stdout",
     "output_type": "stream",
     "text": [
      "123\n",
      "Месяц  не летний\n"
     ]
    }
   ],
   "source": [
    "m = int(input())\n",
    "if m == 6:\n",
    "    print(\"Летний месяц - 30 дней\")\n",
    "elif m == 7:\n",
    "    print(\"Летний месяц - 31 дней\")\n",
    "elif m == 8:\n",
    "    print(\"Летний месяц - 31 дней\")\n",
    "else:\n",
    "    print(\"Месяц  не летний\")"
   ]
  },
  {
   "cell_type": "markdown",
   "metadata": {},
   "source": [
    "# Задание 7"
   ]
  },
  {
   "cell_type": "code",
   "execution_count": 12,
   "metadata": {},
   "outputs": [
    {
     "name": "stdout",
     "output_type": "stream",
     "text": [
      "1 2 3\n",
      "3\n"
     ]
    }
   ],
   "source": [
    "a, b, c = map(int, input().split())\n",
    "print(max(a, b, c))"
   ]
  },
  {
   "cell_type": "markdown",
   "metadata": {},
   "source": [
    "# Задание 8"
   ]
  },
  {
   "cell_type": "code",
   "execution_count": 15,
   "metadata": {},
   "outputs": [
    {
     "name": "stdout",
     "output_type": "stream",
     "text": [
      "Введите день недели\n",
      "123\n",
      "Вы ввели неправильный день\n"
     ]
    }
   ],
   "source": [
    "print(\"Введите день недели\")\n",
    "m = int(input())\n",
    "if n < 6:\n",
    "    print(\"Рабочий день\")\n",
    "elif n == 6:\n",
    "    print(\"Короткий день\")\n",
    "elif n == 7:\n",
    "    print(\"Выходной день\")\n",
    "else:\n",
    "    print(\"Вы ввели неправильный день\")"
   ]
  },
  {
   "cell_type": "markdown",
   "metadata": {},
   "source": [
    "# Задание 9"
   ]
  },
  {
   "cell_type": "code",
   "execution_count": 16,
   "metadata": {},
   "outputs": [
    {
     "name": "stdout",
     "output_type": "stream",
     "text": [
      "123\n",
      "Месяц  не Осенний\n"
     ]
    }
   ],
   "source": [
    "m = int(input())\n",
    "if m == 9:\n",
    "    print(\"Осенний месяц - 30 дней\")\n",
    "elif m == 10:\n",
    "    print(\"Осенний месяц - 31 дней\")\n",
    "elif m == 11:\n",
    "    print(\"Осенний месяц - 30 дней\")\n",
    "else:\n",
    "    print(\"Месяц не Осенний\")"
   ]
  },
  {
   "cell_type": "markdown",
   "metadata": {},
   "source": [
    "# Задание 10"
   ]
  },
  {
   "cell_type": "code",
   "execution_count": 19,
   "metadata": {},
   "outputs": [
    {
     "name": "stdout",
     "output_type": "stream",
     "text": [
      "1\n",
      "2\n",
      "Результат суммы 3\n",
      "Результат умножения 2\n"
     ]
    }
   ],
   "source": [
    "a, b = int(input()), int(input())\n",
    "print(f\"Результат суммы {a+b}\")\n",
    "print(f\"Результат умножения {a*b}\")"
   ]
  },
  {
   "cell_type": "markdown",
   "metadata": {},
   "source": [
    "# Задание 11"
   ]
  },
  {
   "cell_type": "code",
   "execution_count": 20,
   "metadata": {},
   "outputs": [
    {
     "name": "stdout",
     "output_type": "stream",
     "text": [
      "1 2 3\n",
      "1\n"
     ]
    }
   ],
   "source": [
    "a, b, c = map(int, input().split())\n",
    "print(min(a, b, c))"
   ]
  },
  {
   "cell_type": "markdown",
   "metadata": {},
   "source": [
    "# Задание 12"
   ]
  },
  {
   "cell_type": "code",
   "execution_count": 23,
   "metadata": {},
   "outputs": [
    {
     "name": "stdout",
     "output_type": "stream",
     "text": [
      "123 0\n",
      "Результат разности 123\n",
      "Делить на ноль нельзя\n"
     ]
    }
   ],
   "source": [
    "a, b = map(int, input().split())\n",
    "print(f\"Результат разности {a-b}\")\n",
    "if b != 0:\n",
    "    print(f\"Результат частности {a/b}\")\n",
    "else:\n",
    "    print(\"Делить на ноль нельзя\")"
   ]
  },
  {
   "cell_type": "markdown",
   "metadata": {},
   "source": [
    "# Задание 13"
   ]
  },
  {
   "cell_type": "code",
   "execution_count": 24,
   "metadata": {},
   "outputs": [
    {
     "name": "stdout",
     "output_type": "stream",
     "text": [
      "1\n",
      "Зимний месяц - 31 дней\n"
     ]
    }
   ],
   "source": [
    "m = int(input())\n",
    "if m == 12:\n",
    "    print(\"Зимний месяц - 31 дней\")\n",
    "elif m == 1:\n",
    "    print(\"Зимний месяц - 31 дней\")\n",
    "elif m == 2:\n",
    "    print(\"Зимний месяц - 29/28 дней в зависимости от года\")\n",
    "else:\n",
    "    print(\"Месяц не зимний\")"
   ]
  },
  {
   "cell_type": "markdown",
   "metadata": {},
   "source": [
    "# Задание 14"
   ]
  },
  {
   "cell_type": "code",
   "execution_count": 26,
   "metadata": {},
   "outputs": [
    {
     "name": "stdout",
     "output_type": "stream",
     "text": [
      "11\n",
      "2\n",
      "Результат суммы 13\n"
     ]
    }
   ],
   "source": [
    "x = int(input())\n",
    "\n",
    "if x < 10:\n",
    "    print(x*x)\n",
    "else:\n",
    "    y = int(input())\n",
    "    print(f\"Результат суммы {x+y}\")"
   ]
  },
  {
   "cell_type": "markdown",
   "metadata": {},
   "source": [
    "# Задание 15"
   ]
  },
  {
   "cell_type": "code",
   "execution_count": 32,
   "metadata": {},
   "outputs": [
    {
     "name": "stdout",
     "output_type": "stream",
     "text": [
      "123 123 123\n",
      "Количество положительных чисел 3\n",
      "Количество отрицательных чисел 0\n",
      "Количество нулевых чисел 0\n"
     ]
    }
   ],
   "source": [
    "a, b, c = map(int, input().split())\n",
    "lst = [a, b, c]\n",
    "counter_plus = 0\n",
    "counter_zero = 0\n",
    "counter_minus = 0\n",
    "\n",
    "for i in lst:\n",
    "    if i > 0:\n",
    "        counter_plus += 1\n",
    "    elif i < 0:\n",
    "        counter_minus += 1\n",
    "    else:\n",
    "        counter_zero += 1\n",
    "        \n",
    "print(f\"Количество положительных чисел {counter_plus}\")\n",
    "print(f\"Количество отрицательных чисел {counter_minus}\")\n",
    "print(f\"Количество нулевых чисел {counter_zero}\")"
   ]
  },
  {
   "cell_type": "code",
   "execution_count": null,
   "metadata": {},
   "outputs": [],
   "source": []
  }
 ],
 "metadata": {
  "kernelspec": {
   "display_name": "Python 3 (ipykernel)",
   "language": "python",
   "name": "python3"
  },
  "language_info": {
   "codemirror_mode": {
    "name": "ipython",
    "version": 3
   },
   "file_extension": ".py",
   "mimetype": "text/x-python",
   "name": "python",
   "nbconvert_exporter": "python",
   "pygments_lexer": "ipython3",
   "version": "3.11.5"
  }
 },
 "nbformat": 4,
 "nbformat_minor": 2
}
